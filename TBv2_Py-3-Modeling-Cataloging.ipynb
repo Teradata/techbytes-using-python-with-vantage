{
 "cells": [
  {
   "cell_type": "markdown",
   "metadata": {},
   "source": [
    "# TechBytes: Using Python with Teradata Vantage\n",
    "## Part 3: Modeling with Vantage Analytic Functions - Model Cataloging\n",
    "\n",
    "The contents of this file are Teradata Public Content and have been released to the Public Domain.\n",
    "Please see _license.txt_ file in the package for more information.\n",
    "\n",
    "Alexander Kolovos and Tim Miller - May 2021 - v.2.0 \\\n",
    "Copyright (c) 2021 by Teradata \\\n",
    "Licensed under BSD\n",
    "\n",
    "This TechByte demonstrates how to\n",
    "* invoke and use Vantage analytic functions through their teradataml Python wrapper functions.\n",
    "* use options to display the actual SQL query submitted by teradataml to the Database.\n",
    "* persist analytical results in teradataml DataFrames as Database tables.\n",
    "* train and score models in-Database with Vantage analytic functions. A use case is shown with XGBoost and Decision Forest analyses, where we employ Vantage Machine Learning (ML) Engine analytic functions to predict the propensity of bank customers to open a new credit card account. The example further demonstrates a comparison of the 2 models via confusion matrix analysis.\n",
    "* save, inspect, retrieve, and reuse models created with Vantage analytic functions by means of the teradataml Model Cataloging feature.\n",
    "\n",
    "_Note_: To use Model Cataloging on your target Advanced SQL Engine, visit first the teradataml page on the website downloads.teradata.com, and ask your Database administrator to install and enable this feature on your Vantage system.\n",
    "\n",
    "Contributions by:\n",
    "- Alexander Kolovos, Sr Staff Software Architect, Teradata Product Engineering / Vantage Cloud and Applications.\n",
    "- Tim Miller, Principal Software Architect, Teradata Product Management / Advanced Analytics."
   ]
  },
  {
   "cell_type": "markdown",
   "metadata": {},
   "source": [
    "### Initial Steps: Load libraries and create a Vantage connection"
   ]
  },
  {
   "cell_type": "code",
   "execution_count": null,
   "metadata": {
    "ExecuteTime": {
     "end_time": "2021-02-05T15:55:01.150305Z",
     "start_time": "2021-02-05T15:55:01.134716Z"
    }
   },
   "outputs": [],
   "source": [
    "# Load teradataml and dependency packages.\n",
    "#\n",
    "import os\n",
    "import getpass as gp\n",
    "\n",
    "from teradataml import create_context, remove_context, get_context\n",
    "from teradataml import DataFrame, copy_to_sql, in_schema\n",
    "from teradataml.options.display import display\n",
    "\n",
    "from teradataml import XGBoost, XGBoostPredict, ConfusionMatrix\n",
    "from teradataml import DecisionForest, DecisionForestEvaluator, DecisionForestPredict\n",
    "\n",
    "from teradataml import save_model, list_models, describe_model, retrieve_model\n",
    "from teradataml import publish_model, delete_model\n",
    "\n",
    "import pandas as pd\n",
    "import numpy as np"
   ]
  },
  {
   "cell_type": "code",
   "execution_count": null,
   "metadata": {},
   "outputs": [],
   "source": [
    "# Specify a Teradata Vantage server to connect to. In the following statement, \n",
    "# replace the following argument values with strings as follows:\n",
    "# <HOST>   : Specify your target Vantage system hostname (or IP address).\n",
    "# <UID>    : Specify your Database username.\n",
    "# <PWD>    : Specify your password. You can also use encrypted passwords via\n",
    "#            the Stored Password Protection feature.\n",
    "#con = create_context(host = <HOST>, username = <UID>, password = <PWD>, \n",
    "#                     database = <DB_Name>, \"temp_database_name\" = <Temp_DB_Name>)\n",
    "#\n",
    "con = create_context(host = \"<Host_Name>\", username = \"<Username>\",\n",
    "                            password = gp.getpass(prompt='Password:'), \n",
    "                            logmech = \"LDAP\", database = \"TRNG_TECHBYTES\",\n",
    "                            temp_database_name = \"<Database_Name>\")"
   ]
  },
  {
   "cell_type": "code",
   "execution_count": null,
   "metadata": {},
   "outputs": [],
   "source": [
    "# Create a teradataml DataFrame from the ADS we need, and take a glimpse at it.\n",
    "#\n",
    "td_ADS_Py = DataFrame(\"ak_TBv2_ADS_Py\")\n",
    "td_ADS_Py.to_pandas().head(5)"
   ]
  },
  {
   "cell_type": "code",
   "execution_count": null,
   "metadata": {},
   "outputs": [],
   "source": [
    "# Split the ADS into 2 samples, each with 60% and 40% of total rows.\n",
    "# Use the 60% sample to train, and the 40% sample to test/score.\n",
    "# Persist the samples as tables in the Database, and create DataFrames.\n",
    "#\n",
    "td_Train_Test_ADS = td_ADS_Py.sample(frac = [0.6, 0.4])\n",
    "\n",
    "Train_ADS = td_Train_Test_ADS[td_Train_Test_ADS.sampleid == \"1\"]\n",
    "copy_to_sql(Train_ADS, table_name=\"ak_TBv2_Train_ADS_Py\", if_exists=\"replace\")\n",
    "td_Train_ADS = DataFrame(\"ak_TBv2_Train_ADS_Py\")\n",
    "\n",
    "Test_ADS = td_Train_Test_ADS[td_Train_Test_ADS.sampleid == \"2\"]\n",
    "copy_to_sql(Test_ADS, table_name=\"ak_TBv2_Test_ADS_Py\", if_exists=\"replace\")\n",
    "td_Test_ADS = DataFrame(\"ak_TBv2_Test_ADS_Py\")"
   ]
  },
  {
   "cell_type": "markdown",
   "metadata": {},
   "source": [
    "### 1. Using the ML Engine analytic functions\n",
    "\n",
    "Assume the use case of predicting credit card account ownership based on independent variables of interest. We will be training models, scoring the test data with them, comparing models and storing them for retrieval."
   ]
  },
  {
   "cell_type": "code",
   "execution_count": null,
   "metadata": {},
   "outputs": [],
   "source": [
    "# Use the teradataml option to print the SQL code of calls to Advanced SQL\n",
    "# or ML Engines analytic functions.\n",
    "#\n",
    "display.print_sqlmr_query = True"
   ]
  },
  {
   "cell_type": "markdown",
   "metadata": {},
   "source": [
    "#### 1.1. Model training and scoring with XGBoost"
   ]
  },
  {
   "cell_type": "code",
   "execution_count": null,
   "metadata": {},
   "outputs": [],
   "source": [
    "# First, construct a formula to predict Credit Card account ownership based on\n",
    "# the following independent variables of interest:\n",
    "#\n",
    "formula = \"cc_acct_ind ~ income + age + tot_cust_years + tot_children + female_ind + single_ind \" \\\n",
    "          \"+ married_ind + separated_ind + ca_resident_ind + ny_resident_ind + tx_resident_ind \" \\\n",
    "          \"+ il_resident_ind + az_resident_ind + oh_resident_ind + ck_acct_ind + sv_acct_ind \" \\\n",
    "          \"+ ck_avg_bal + sv_avg_bal + ck_avg_tran_amt + sv_avg_tran_amt\"\n",
    "\n",
    "# Then, train an XGBoost model to predict Credit Card account ownership on the\n",
    "# basis of the above formula.\n",
    "#\n",
    "td_xgboost_model = XGBoost(data = td_Train_ADS,\n",
    "                           id_column = 'cust_id',\n",
    "                           formula = formula,\n",
    "                           num_boosted_trees = 4,\n",
    "                           loss_function = 'binomial',\n",
    "                           prediction_type = 'classification',\n",
    "                           reg_lambda =1.0,\n",
    "                           shrinkage_factor = 0.1,\n",
    "                           iter_num = 10,\n",
    "                           min_node_size = 1,\n",
    "                           max_depth = 6\n",
    "                           )\n",
    "#print(td_xgboost_model)\n",
    "print(\"Training complete.\")"
   ]
  },
  {
   "cell_type": "code",
   "execution_count": null,
   "metadata": {},
   "outputs": [],
   "source": [
    "# Score the XGBoost model against the holdout and compare actuals to predicted.\n",
    "#\n",
    "td_xgboost_predict = XGBoostPredict(td_xgboost_model,\n",
    "                                    newdata = td_Test_ADS,\n",
    "                                    object_order_column = ['tree_id','iter','class_num'],\n",
    "                                    id_column = 'cust_id',\n",
    "                                    terms = 'cc_acct_ind',\n",
    "                                    num_boosted_trees = 4\n",
    "                                    )\n",
    "\n",
    "# Persist the XGBoostPredict output\n",
    "#\n",
    "try:\n",
    "    db_drop_table(\"ak_TBv2_Py_XGBoost_Scores\")\n",
    "except:\n",
    "    pass\n",
    "\n",
    "td_xgboost_predict.result.to_sql(if_exists = \"replace\", table_name = \"ak_TBv2_Py_XGBoost_Scores\")\n",
    "td_XGBoost_Scores = DataFrame(\"ak_TBv2_Py_XGBoost_Scores\")\n",
    "td_XGBoost_Scores.head(5)"
   ]
  },
  {
   "cell_type": "markdown",
   "metadata": {},
   "source": [
    "#### 1.2. Model training and scoring with Decision Forests"
   ]
  },
  {
   "cell_type": "code",
   "execution_count": null,
   "metadata": {},
   "outputs": [],
   "source": [
    "# In a different approach, train a Decicion Forests model to predict the same\n",
    "# target, so we can compare and see which algorithm fits best the data.\n",
    "#\n",
    "td_decisionforest_model = DecisionForest(formula = formula,\n",
    "                                         data = td_Train_ADS,\n",
    "                                         tree_type = \"classification\",\n",
    "                                         ntree = 500,\n",
    "                                         nodesize = 1,\n",
    "                                         variance = 0.0,\n",
    "                                         max_depth = 12,\n",
    "                                         mtry = 5,\n",
    "                                         mtry_seed = 100,\n",
    "                                         seed = 100\n",
    "                                         )\n",
    "#print(td_decisionforest_model)\n",
    "print(\"Training complete.\")"
   ]
  },
  {
   "cell_type": "code",
   "execution_count": null,
   "metadata": {},
   "outputs": [],
   "source": [
    "# Call the DecisionForestEvaluator() function to determine the most important\n",
    "# variables in the Decision Forest model.\n",
    "#\n",
    "td_decisionforest_model_evaluator = DecisionForestEvaluator(object = td_decisionforest_model,\n",
    "                                                            num_levels = 5)\n",
    "\n",
    "# In the following, the describe() method provides summary statistics across\n",
    "# trees over grouping by each variable. One can consider the mean importance\n",
    "# across all trees as the importance for each variable.\n",
    "#\n",
    "td_variable_importance = td_decisionforest_model_evaluator.result.select([\"variable_col\", \"importance\"]).groupby(\"variable_col\").describe()\n",
    "\n",
    "print(td_variable_importance)\n",
    "#print(\"Variable importance analysis complete.\")"
   ]
  },
  {
   "cell_type": "code",
   "execution_count": null,
   "metadata": {},
   "outputs": [],
   "source": [
    "# Score the Decision Forest model\n",
    "#\n",
    "td_decisionforest_predict = DecisionForestPredict(td_decisionforest_model,\n",
    "                                                  newdata = td_Test_ADS,\n",
    "                                                  id_column = \"cust_id\",\n",
    "                                                  detailed = False,\n",
    "                                                  terms = [\"cc_acct_ind\"]\n",
    "                                                  )\n",
    "\n",
    "# Persist the DecisionForestPredict output\n",
    "try:\n",
    "    db_drop_table(\"ak_TBv2_Py_DecisionForest_Scores\")\n",
    "except:\n",
    "    pass\n",
    "\n",
    "copy_to_sql(td_decisionforest_predict.result, if_exists = \"replace\", \n",
    "            table_name=\"ak_TBv2_Py_DecisionForest_Scores\")\n",
    "td_DecisionForest_Scores = DataFrame(\"ak_TBv2_Py_DecisionForest_Scores\")\n",
    "td_DecisionForest_Scores.head(5)"
   ]
  },
  {
   "cell_type": "markdown",
   "metadata": {},
   "source": [
    "#### 1.3. Inspect the 2 modeling approaches through their Confusion Matrix"
   ]
  },
  {
   "cell_type": "code",
   "execution_count": null,
   "metadata": {},
   "outputs": [],
   "source": [
    "# Look at the confusion matrix for the XGBoost model.\n",
    "#\n",
    "confusion_matrix_XGB = ConfusionMatrix(data = td_XGBoost_Scores,\n",
    "                                       reference = \"cc_acct_ind\",\n",
    "                                       prediction = \"prediction\"\n",
    "                                      )\n",
    "print(confusion_matrix_XGB)"
   ]
  },
  {
   "cell_type": "code",
   "execution_count": null,
   "metadata": {},
   "outputs": [],
   "source": [
    "# Look at the confusion matrix for Random Forest model.\n",
    "#\n",
    "confusion_matrix_DF = ConfusionMatrix(data = td_DecisionForest_Scores,\n",
    "                                      reference = \"cc_acct_ind\",\n",
    "                                      prediction = \"prediction\"\n",
    "                                     )\n",
    "print(confusion_matrix_DF)"
   ]
  },
  {
   "cell_type": "markdown",
   "metadata": {},
   "source": [
    "### 2. Model Cataloging\n",
    "Tools to save, inspect, retrieve, and reuse models created either in the Advanced SQL Engine or the ML Engine."
   ]
  },
  {
   "cell_type": "code",
   "execution_count": null,
   "metadata": {},
   "outputs": [],
   "source": [
    "# Save the XGBoost and Decision Forest models.\n",
    "#\n",
    "save_model(model = td_xgboost_model, name = \"ak_TBv2_Py_CC_XGB_model\", \n",
    "           description = \"TechBytes (Python): XGBoost for credit card analysis\")\n",
    "save_model(model = td_decisionforest_model, name = \"ak_TBv2_Py_CC_DF_model\", \n",
    "           description = \"TechBytes (Python): DF for credit card analysis\")"
   ]
  },
  {
   "cell_type": "code",
   "execution_count": null,
   "metadata": {},
   "outputs": [],
   "source": [
    "# Inspect presently saved models.\n",
    "#\n",
    "list_models()"
   ]
  },
  {
   "cell_type": "code",
   "execution_count": null,
   "metadata": {},
   "outputs": [],
   "source": [
    "# Print details about a specific model.\n",
    "#\n",
    "describe_model(name = \"ak_TBv2_Py_CC_DF_model\")"
   ]
  },
  {
   "cell_type": "code",
   "execution_count": null,
   "metadata": {},
   "outputs": [],
   "source": [
    "# Recreate a teradataml Analytic Function object from the information saved\n",
    "# with the Model Catalog \n",
    "td_retrieved_DF_model = retrieve_model(\"ak_TBv2_Py_CC_DF_model\")"
   ]
  },
  {
   "cell_type": "code",
   "execution_count": null,
   "metadata": {},
   "outputs": [],
   "source": [
    "# Assume that on the basis of the earlier model comparison, we choose to keep\n",
    "# the Decision Forests model and discard the XGBoost one.\n",
    "#\n",
    "# The publish_model() function enables sharing the selected models with\n",
    "# other users, and specifying a status among the available options\n",
    "# of \"In-Development\", \"Candidate\", \"Active\", \"Production\", and \"Retired\".\n",
    "#\n",
    "publish_model(\"ak_TBv2_Py_CC_DF_model\", grantee = \"public\", status = \"Active\")"
   ]
  },
  {
   "cell_type": "code",
   "execution_count": null,
   "metadata": {},
   "outputs": [],
   "source": [
    "# Discarding a model no longer needed.\n",
    "#\n",
    "delete_model(\"ak_TBv2_Py_CC_DF_model\")\n",
    "delete_model(\"ak_TBv2_Py_CC_XGB_model\")"
   ]
  },
  {
   "cell_type": "markdown",
   "metadata": {},
   "source": [
    "### End of session"
   ]
  },
  {
   "cell_type": "code",
   "execution_count": null,
   "metadata": {},
   "outputs": [],
   "source": [
    "# Remove the context of present teradataml session and terminate the Python\n",
    "# session. It is recommended to call the remove_context() function for session\n",
    "# cleanup. Temporary objects are removed at the end of the session.\n",
    "#\n",
    "remove_context()"
   ]
  },
  {
   "cell_type": "code",
   "execution_count": null,
   "metadata": {},
   "outputs": [],
   "source": []
  }
 ],
 "metadata": {
  "kernelspec": {
   "display_name": "Python 3",
   "language": "python",
   "name": "python3"
  },
  "language_info": {
   "codemirror_mode": {
    "name": "ipython",
    "version": 3
   },
   "file_extension": ".py",
   "mimetype": "text/x-python",
   "name": "python",
   "nbconvert_exporter": "python",
   "pygments_lexer": "ipython3",
   "version": "3.6.8"
  }
 },
 "nbformat": 4,
 "nbformat_minor": 4
}
