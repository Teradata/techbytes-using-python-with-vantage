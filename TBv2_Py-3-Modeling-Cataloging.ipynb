{
 "cells": [
  {
   "cell_type": "markdown",
   "metadata": {},
   "source": [
    "# TechBytes: Using Python with Teradata Vantage\n",
    "## Part 3: Modeling with Vantage Analytic Functions - Model Cataloging\n",
    "\n",
    "The contents of this file are Teradata Public Content and have been released to the Public Domain.\n",
    "Please see _license.txt_ file in the package for more information.\n",
    "\n",
    "Alexander Kolovos and Tim Miller - May 2021 - v.2.0 \\\n",
    "Copyright (c) 2021 by Teradata \\\n",
    "Licensed under BSD\n",
    "\n",
    "This TechByte demonstrates how to\n",
    "* invoke and use Vantage analytic functions through their teradataml Python wrapper functions.\n",
    "* use options to display the actual SQL query submitted by teradataml to the Database.\n",
    "* persist analytical results in teradataml DataFrames as Database tables.\n",
    "* train and score models in-Database with Vantage analytic functions. A use case is shown with XGBoost and Decision Forest analyses, where we employ Vantage Machine Learning (ML) Engine analytic functions to predict the propensity of bank customers to open a new credit card account. The example further demonstrates a comparison of the 2 models via confusion matrix analysis.\n",
    "* save, inspect, retrieve, and reuse models created with Vantage analytic functions by means of the teradataml Model Cataloging feature.\n",
    "\n",
    "_Note_: To use Model Cataloging on your target Advanced SQL Engine, visit first the teradataml page on the website downloads.teradata.com, and ask your Database administrator to install and enable this feature on your Vantage system.\n",
    "\n",
    "Contributions by:\n",
    "- Alexander Kolovos, Sr Staff Software Architect, Teradata Product Engineering / Vantage Cloud and Applications.\n",
    "- Tim Miller, Principal Software Architect, Teradata Product Management / Advanced Analytics."
   ]
  },
  {
   "cell_type": "markdown",
   "metadata": {},
   "source": [
    "### Initial Steps: Load libraries and create a Vantage connection"
   ]
  },
  {
   "cell_type": "code",
   "execution_count": 1,
   "metadata": {
    "ExecuteTime": {
     "end_time": "2021-02-05T15:55:01.150305Z",
     "start_time": "2021-02-05T15:55:01.134716Z"
    }
   },
   "outputs": [],
   "source": [
    "# Load teradataml and dependency packages.\n",
    "#\n",
    "import os\n",
    "import getpass as gp\n",
    "\n",
    "from teradataml import create_context, remove_context, get_context\n",
    "from teradataml import DataFrame, copy_to_sql, in_schema\n",
    "from teradataml.options.display import display\n",
    "\n",
    "from teradataml import XGBoost, XGBoostPredict, ConfusionMatrix\n",
    "from teradataml import DecisionForest, DecisionForestEvaluator, DecisionForestPredict\n",
    "\n",
    "from teradataml import save_model, list_models, describe_model, retrieve_model\n",
    "from teradataml import publish_model, delete_model\n",
    "\n",
    "import pandas as pd\n",
    "import numpy as np"
   ]
  },
  {
   "cell_type": "code",
   "execution_count": 2,
   "metadata": {},
   "outputs": [
    {
     "name": "stdin",
     "output_type": "stream",
     "text": [
      "Password: ··············\n"
     ]
    }
   ],
   "source": [
    "# Specify a Teradata Vantage server to connect to. In the following statement, \n",
    "# replace the following argument values with strings as follows:\n",
    "# <HOST>   : Specify your target Vantage system hostname (or IP address).\n",
    "# <UID>    : Specify your Database username.\n",
    "# <PWD>    : Specify your password. You can also use encrypted passwords via\n",
    "#            the Stored Password Protection feature.\n",
    "#con = create_context(host = <HOST>, username = <UID>, password = <PWD>, \n",
    "#                     database = <DB_Name>, \"temp_database_name\" = <Temp_DB_Name>)\n",
    "#\n",
    "con = create_context(host = \"tdprd.td.teradata.com\", username = \"ak186064\",\n",
    "                            password = gp.getpass(prompt='Password:'), \n",
    "                            logmech = \"LDAP\", database = \"TRNG_TECHBYTES\",\n",
    "                            temp_database_name = \"ak186064\")"
   ]
  },
  {
   "cell_type": "code",
   "execution_count": 3,
   "metadata": {},
   "outputs": [
    {
     "data": {
      "text/html": [
       "<div>\n",
       "<style scoped>\n",
       "    .dataframe tbody tr th:only-of-type {\n",
       "        vertical-align: middle;\n",
       "    }\n",
       "\n",
       "    .dataframe tbody tr th {\n",
       "        vertical-align: top;\n",
       "    }\n",
       "\n",
       "    .dataframe thead th {\n",
       "        text-align: right;\n",
       "    }\n",
       "</style>\n",
       "<table border=\"1\" class=\"dataframe\">\n",
       "  <thead>\n",
       "    <tr style=\"text-align: right;\">\n",
       "      <th></th>\n",
       "      <th>cust_id</th>\n",
       "      <th>income</th>\n",
       "      <th>age</th>\n",
       "      <th>tot_cust_years</th>\n",
       "      <th>tot_children</th>\n",
       "      <th>female_ind</th>\n",
       "      <th>single_ind</th>\n",
       "      <th>married_ind</th>\n",
       "      <th>separated_ind</th>\n",
       "      <th>state_code</th>\n",
       "      <th>...</th>\n",
       "      <th>ck_avg_bal</th>\n",
       "      <th>sv_avg_bal</th>\n",
       "      <th>cc_avg_bal</th>\n",
       "      <th>ck_avg_tran_amt</th>\n",
       "      <th>sv_avg_tran_amt</th>\n",
       "      <th>cc_avg_tran_amt</th>\n",
       "      <th>q1_trans_cnt</th>\n",
       "      <th>q2_trans_cnt</th>\n",
       "      <th>q3_trans_cnt</th>\n",
       "      <th>q4_trans_cnt</th>\n",
       "    </tr>\n",
       "  </thead>\n",
       "  <tbody>\n",
       "    <tr>\n",
       "      <th>0</th>\n",
       "      <td>28617939</td>\n",
       "      <td>5724.2</td>\n",
       "      <td>70</td>\n",
       "      <td>10</td>\n",
       "      <td>1</td>\n",
       "      <td>1</td>\n",
       "      <td>0</td>\n",
       "      <td>1</td>\n",
       "      <td>0</td>\n",
       "      <td>CA</td>\n",
       "      <td>...</td>\n",
       "      <td>291.728969</td>\n",
       "      <td>291.728969</td>\n",
       "      <td>291.728969</td>\n",
       "      <td>2.879832</td>\n",
       "      <td>2.879832</td>\n",
       "      <td>2.879832</td>\n",
       "      <td>384</td>\n",
       "      <td>57</td>\n",
       "      <td>69</td>\n",
       "      <td>72</td>\n",
       "    </tr>\n",
       "    <tr>\n",
       "      <th>1</th>\n",
       "      <td>27252140</td>\n",
       "      <td>48900.0</td>\n",
       "      <td>44</td>\n",
       "      <td>6</td>\n",
       "      <td>1</td>\n",
       "      <td>0</td>\n",
       "      <td>0</td>\n",
       "      <td>1</td>\n",
       "      <td>0</td>\n",
       "      <td>OTHER</td>\n",
       "      <td>...</td>\n",
       "      <td>4875.089945</td>\n",
       "      <td>0.000000</td>\n",
       "      <td>4875.089945</td>\n",
       "      <td>14.125061</td>\n",
       "      <td>14.125061</td>\n",
       "      <td>14.125061</td>\n",
       "      <td>220</td>\n",
       "      <td>28</td>\n",
       "      <td>30</td>\n",
       "      <td>48</td>\n",
       "    </tr>\n",
       "    <tr>\n",
       "      <th>2</th>\n",
       "      <td>23166920</td>\n",
       "      <td>31020.6</td>\n",
       "      <td>73</td>\n",
       "      <td>9</td>\n",
       "      <td>0</td>\n",
       "      <td>0</td>\n",
       "      <td>0</td>\n",
       "      <td>1</td>\n",
       "      <td>0</td>\n",
       "      <td>CA</td>\n",
       "      <td>...</td>\n",
       "      <td>6059.145000</td>\n",
       "      <td>0.000000</td>\n",
       "      <td>0.000000</td>\n",
       "      <td>-28.884351</td>\n",
       "      <td>-28.884351</td>\n",
       "      <td>0.000000</td>\n",
       "      <td>15</td>\n",
       "      <td>14</td>\n",
       "      <td>17</td>\n",
       "      <td>11</td>\n",
       "    </tr>\n",
       "    <tr>\n",
       "      <th>3</th>\n",
       "      <td>19077268</td>\n",
       "      <td>6445.6</td>\n",
       "      <td>66</td>\n",
       "      <td>6</td>\n",
       "      <td>1</td>\n",
       "      <td>1</td>\n",
       "      <td>0</td>\n",
       "      <td>1</td>\n",
       "      <td>0</td>\n",
       "      <td>NY</td>\n",
       "      <td>...</td>\n",
       "      <td>4281.467000</td>\n",
       "      <td>0.000000</td>\n",
       "      <td>0.000000</td>\n",
       "      <td>-5.011717</td>\n",
       "      <td>-5.011717</td>\n",
       "      <td>0.000000</td>\n",
       "      <td>54</td>\n",
       "      <td>45</td>\n",
       "      <td>0</td>\n",
       "      <td>0</td>\n",
       "    </tr>\n",
       "    <tr>\n",
       "      <th>4</th>\n",
       "      <td>23168535</td>\n",
       "      <td>1625.2</td>\n",
       "      <td>39</td>\n",
       "      <td>5</td>\n",
       "      <td>0</td>\n",
       "      <td>1</td>\n",
       "      <td>0</td>\n",
       "      <td>1</td>\n",
       "      <td>0</td>\n",
       "      <td>TX</td>\n",
       "      <td>...</td>\n",
       "      <td>1430.087142</td>\n",
       "      <td>1430.087142</td>\n",
       "      <td>0.000000</td>\n",
       "      <td>41.337208</td>\n",
       "      <td>41.337208</td>\n",
       "      <td>0.000000</td>\n",
       "      <td>80</td>\n",
       "      <td>100</td>\n",
       "      <td>58</td>\n",
       "      <td>22</td>\n",
       "    </tr>\n",
       "  </tbody>\n",
       "</table>\n",
       "<p>5 rows × 29 columns</p>\n",
       "</div>"
      ],
      "text/plain": [
       "    cust_id   income  age  tot_cust_years  tot_children  female_ind  \\\n",
       "0  28617939   5724.2   70              10             1           1   \n",
       "1  27252140  48900.0   44               6             1           0   \n",
       "2  23166920  31020.6   73               9             0           0   \n",
       "3  19077268   6445.6   66               6             1           1   \n",
       "4  23168535   1625.2   39               5             0           1   \n",
       "\n",
       "   single_ind  married_ind  separated_ind state_code  ...   ck_avg_bal  \\\n",
       "0           0            1              0         CA  ...   291.728969   \n",
       "1           0            1              0      OTHER  ...  4875.089945   \n",
       "2           0            1              0         CA  ...  6059.145000   \n",
       "3           0            1              0         NY  ...  4281.467000   \n",
       "4           0            1              0         TX  ...  1430.087142   \n",
       "\n",
       "    sv_avg_bal   cc_avg_bal  ck_avg_tran_amt  sv_avg_tran_amt  \\\n",
       "0   291.728969   291.728969         2.879832         2.879832   \n",
       "1     0.000000  4875.089945        14.125061        14.125061   \n",
       "2     0.000000     0.000000       -28.884351       -28.884351   \n",
       "3     0.000000     0.000000        -5.011717        -5.011717   \n",
       "4  1430.087142     0.000000        41.337208        41.337208   \n",
       "\n",
       "   cc_avg_tran_amt  q1_trans_cnt  q2_trans_cnt  q3_trans_cnt  q4_trans_cnt  \n",
       "0         2.879832           384            57            69            72  \n",
       "1        14.125061           220            28            30            48  \n",
       "2         0.000000            15            14            17            11  \n",
       "3         0.000000            54            45             0             0  \n",
       "4         0.000000            80           100            58            22  \n",
       "\n",
       "[5 rows x 29 columns]"
      ]
     },
     "execution_count": 3,
     "metadata": {},
     "output_type": "execute_result"
    }
   ],
   "source": [
    "# Create a teradataml DataFrame from the ADS we need, and take a glimpse at it.\n",
    "#\n",
    "td_ADS_Py = DataFrame(\"ak_TBv2_ADS_Py\")\n",
    "td_ADS_Py.to_pandas().head(5)"
   ]
  },
  {
   "cell_type": "code",
   "execution_count": 4,
   "metadata": {},
   "outputs": [],
   "source": [
    "# Split the ADS into 2 samples, each with 60% and 40% of total rows.\n",
    "# Use the 60% sample to train, and the 40% sample to test/score.\n",
    "# Persist the samples as tables in the Database, and create DataFrames.\n",
    "#\n",
    "td_Train_Test_ADS = td_ADS_Py.sample(frac = [0.6, 0.4])\n",
    "\n",
    "Train_ADS = td_Train_Test_ADS[td_Train_Test_ADS.sampleid == \"1\"]\n",
    "copy_to_sql(Train_ADS, table_name=\"ak_TBv2_Train_ADS_Py\", if_exists=\"replace\")\n",
    "td_Train_ADS = DataFrame(\"ak_TBv2_Train_ADS_Py\")\n",
    "\n",
    "Test_ADS = td_Train_Test_ADS[td_Train_Test_ADS.sampleid == \"2\"]\n",
    "copy_to_sql(Test_ADS, table_name=\"ak_TBv2_Test_ADS_Py\", if_exists=\"replace\")\n",
    "td_Test_ADS = DataFrame(\"ak_TBv2_Test_ADS_Py\")"
   ]
  },
  {
   "cell_type": "markdown",
   "metadata": {},
   "source": [
    "### 1. Using the ML Engine analytic functions\n",
    "\n",
    "Assume the use case of predicting credit card account ownership based on independent variables of interest. We will be training models, scoring the test data with them, comparing models and storing them for retrieval."
   ]
  },
  {
   "cell_type": "code",
   "execution_count": 5,
   "metadata": {},
   "outputs": [],
   "source": [
    "# Use the teradataml option to print the SQL code of calls to Advanced SQL\n",
    "# or ML Engines analytic functions.\n",
    "#\n",
    "display.print_sqlmr_query = True"
   ]
  },
  {
   "cell_type": "markdown",
   "metadata": {},
   "source": [
    "#### 1.1. Model training and scoring with XGBoost"
   ]
  },
  {
   "cell_type": "code",
   "execution_count": 6,
   "metadata": {},
   "outputs": [
    {
     "name": "stdout",
     "output_type": "stream",
     "text": [
      "SELECT * FROM XGBoost(\n",
      "\tON \"ak_TBv2_Train_ADS_Py\" AS InputTable\n",
      "\tOUT TABLE OutputTable(ak186064.ml__td_xgboost0_162077915941196)\n",
      "\tUSING\n",
      "\tIdColumn('cust_id')\n",
      "\tNumBoostedTrees('4')\n",
      "\tLossFunction('binomial')\n",
      "\tPredictionType('classification')\n",
      "\tMaxDepth('6')\n",
      "\tResponseColumn('cc_acct_ind')\n",
      "\tNumericInputs('income','age','tot_cust_years','tot_children','female_ind','single_ind','married_ind','separated_ind','ca_resident_ind','ny_resident_ind','tx_resident_ind','il_resident_ind','az_resident_ind','oh_resident_ind','ck_acct_ind','sv_acct_ind','ck_avg_bal','sv_avg_bal','ck_avg_tran_amt','sv_avg_tran_amt')\n",
      ") as sqlmr\n",
      "Training complete.\n"
     ]
    }
   ],
   "source": [
    "# First, construct a formula to predict Credit Card account ownership based on\n",
    "# the following independent variables of interest:\n",
    "#\n",
    "formula = \"cc_acct_ind ~ income + age + tot_cust_years + tot_children + female_ind + single_ind \" \\\n",
    "          \"+ married_ind + separated_ind + ca_resident_ind + ny_resident_ind + tx_resident_ind \" \\\n",
    "          \"+ il_resident_ind + az_resident_ind + oh_resident_ind + ck_acct_ind + sv_acct_ind \" \\\n",
    "          \"+ ck_avg_bal + sv_avg_bal + ck_avg_tran_amt + sv_avg_tran_amt\"\n",
    "\n",
    "# Then, train an XGBoost model to predict Credit Card account ownership on the\n",
    "# basis of the above formula.\n",
    "#\n",
    "td_xgboost_model = XGBoost(data = td_Train_ADS,\n",
    "                           id_column = 'cust_id',\n",
    "                           formula = formula,\n",
    "                           num_boosted_trees = 4,\n",
    "                           loss_function = 'binomial',\n",
    "                           prediction_type = 'classification',\n",
    "                           reg_lambda =1.0,\n",
    "                           shrinkage_factor = 0.1,\n",
    "                           iter_num = 10,\n",
    "                           min_node_size = 1,\n",
    "                           max_depth = 6\n",
    "                           )\n",
    "#print(td_xgboost_model)\n",
    "print(\"Training complete.\")"
   ]
  },
  {
   "cell_type": "code",
   "execution_count": 7,
   "metadata": {},
   "outputs": [
    {
     "name": "stdout",
     "output_type": "stream",
     "text": [
      "SELECT * FROM XGBoostPredict(\n",
      "\tON \"ak_TBv2_Test_ADS_Py\" AS \"input\"\n",
      "\tPARTITION BY ANY \n",
      "\tON \"ak186064\".\"ml__td_xgboost0_162077915941196\" AS ModelTable\n",
      "\tDIMENSION\n",
      "\tORDER BY \"tree_id\",\"iter\",\"class_num\"\n",
      "\tUSING\n",
      "\tIdColumn('cust_id')\n",
      "\tAccumulate('cc_acct_ind')\n",
      "\tNumBoostedTrees('4')\n",
      ") as sqlmr\n"
     ]
    },
    {
     "data": {
      "text/plain": [
       "    cust_id  cc_acct_ind prediction  confidence_lower  confidence_upper\n",
       "0  13624960            0          0               1.0               1.0\n",
       "1  13625020            0          1               1.0               1.0\n",
       "2  13624980            0          1               1.0               1.0\n",
       "3  13624860            0          1               1.0               1.0\n",
       "4  13624840            1          1               1.0               1.0"
      ]
     },
     "execution_count": 7,
     "metadata": {},
     "output_type": "execute_result"
    }
   ],
   "source": [
    "# Score the XGBoost model against the holdout and compare actuals to predicted.\n",
    "#\n",
    "td_xgboost_predict = XGBoostPredict(td_xgboost_model,\n",
    "                                    newdata = td_Test_ADS,\n",
    "                                    object_order_column = ['tree_id','iter','class_num'],\n",
    "                                    id_column = 'cust_id',\n",
    "                                    terms = 'cc_acct_ind',\n",
    "                                    num_boosted_trees = 4\n",
    "                                    )\n",
    "\n",
    "# Persist the XGBoostPredict output\n",
    "#\n",
    "try:\n",
    "    db_drop_table(\"ak_TBv2_Py_XGBoost_Scores\")\n",
    "except:\n",
    "    pass\n",
    "\n",
    "td_xgboost_predict.result.to_sql(if_exists = \"replace\", table_name = \"ak_TBv2_Py_XGBoost_Scores\")\n",
    "td_XGBoost_Scores = DataFrame(\"ak_TBv2_Py_XGBoost_Scores\")\n",
    "td_XGBoost_Scores.head(5)"
   ]
  },
  {
   "cell_type": "markdown",
   "metadata": {},
   "source": [
    "#### 1.2. Model training and scoring with Decision Forests"
   ]
  },
  {
   "cell_type": "code",
   "execution_count": 8,
   "metadata": {},
   "outputs": [
    {
     "name": "stdout",
     "output_type": "stream",
     "text": [
      "SELECT * FROM DecisionForest(\n",
      "\tON \"ak_TBv2_Train_ADS_Py\" AS InputTable\n",
      "\tOUT TABLE OutputTable(ak186064.ml__td_decisionforest0_162078106630228)\n",
      "\tOUT TABLE MonitorTable(ak186064.ml__td_decisionforest1_162077867853955)\n",
      "\tUSING\n",
      "\tTreeType('classification')\n",
      "\tNumTrees('500')\n",
      "\tMaxNumCategoricalValues('1000')\n",
      "\tMtry('5')\n",
      "\tMtrySeed('100')\n",
      "\tSeed('100')\n",
      "\tResponseColumn('cc_acct_ind')\n",
      "\tNumericInputs('income','age','tot_cust_years','tot_children','female_ind','single_ind','married_ind','separated_ind','ca_resident_ind','ny_resident_ind','tx_resident_ind','il_resident_ind','az_resident_ind','oh_resident_ind','ck_acct_ind','sv_acct_ind','ck_avg_bal','sv_avg_bal','ck_avg_tran_amt','sv_avg_tran_amt')\n",
      ") as sqlmr\n",
      "Training complete.\n"
     ]
    }
   ],
   "source": [
    "# In a different approach, train a Decicion Forests model to predict the same\n",
    "# target, so we can compare and see which algorithm fits best the data.\n",
    "#\n",
    "td_decisionforest_model = DecisionForest(formula = formula,\n",
    "                                         data = td_Train_ADS,\n",
    "                                         tree_type = \"classification\",\n",
    "                                         ntree = 500,\n",
    "                                         nodesize = 1,\n",
    "                                         variance = 0.0,\n",
    "                                         max_depth = 12,\n",
    "                                         mtry = 5,\n",
    "                                         mtry_seed = 100,\n",
    "                                         seed = 100\n",
    "                                         )\n",
    "#print(td_decisionforest_model)\n",
    "print(\"Training complete.\")"
   ]
  },
  {
   "cell_type": "code",
   "execution_count": 9,
   "metadata": {},
   "outputs": [
    {
     "name": "stdout",
     "output_type": "stream",
     "text": [
      "SELECT * FROM DecisionForestEvaluator(\n",
      "\tON \"ak186064\".\"ml__td_decisionforest0_162078106630228\" AS \"input\"\n",
      "\tPARTITION BY ANY\n",
      ") as sqlmr\n",
      "                      importance\n",
      "variable_col    func            \n",
      "age             25%         .089\n",
      "                50%         .255\n",
      "                75%         .459\n",
      "                count        360\n",
      "                max        1.123\n",
      "                mean        .295\n",
      "                min         .006\n",
      "                std         .228\n",
      "az_resident_ind 25%         .018\n",
      "                50%         .031\n",
      "                75%         .046\n",
      "                count         35\n",
      "                max         .245\n",
      "                mean        .041\n",
      "                min         .003\n",
      "                std         .044\n",
      "ca_resident_ind 25%          .02\n",
      "                50%         .081\n",
      "                75%         .161\n",
      "                count        127\n",
      "                max         .665\n",
      "                mean        .127\n",
      "                min         .001\n",
      "                std         .146\n",
      "ck_acct_ind     25%         .018\n",
      "                50%         .068\n",
      "                75%         .186\n",
      "                count        160\n",
      "                max           .5\n",
      "                mean        .119\n",
      "                min            0\n",
      "                std         .126\n",
      "ck_avg_bal      25%          .07\n",
      "                50%         .178\n",
      "                75%         .359\n",
      "                count        369\n",
      "                max        1.188\n",
      "                mean        .242\n",
      "                min         .007\n",
      "                std         .214\n",
      "ck_avg_tran_amt 25%         .044\n",
      "                50%         .119\n",
      "                75%         .232\n",
      "                count        335\n",
      "                max         .749\n",
      "                mean        .167\n",
      "                min         .003\n",
      "                std         .156\n",
      "female_ind      25%          .02\n",
      "                50%         .075\n",
      "                75%         .216\n",
      "                count        139\n",
      "                max         .835\n",
      "                mean        .135\n",
      "                min            0\n",
      "                std         .154\n",
      "il_resident_ind 25%         .024\n",
      "                50%         .073\n",
      "                75%         .145\n",
      "                count         74\n",
      "                max           .5\n",
      "                mean        .108\n",
      "                min            0\n",
      "                std          .12\n",
      "income          25%         .074\n",
      "                50%          .21\n",
      "                75%         .444\n",
      "                count        392\n",
      "                max        1.378\n",
      "                mean        .276\n",
      "                min         .005\n",
      "                std         .244\n",
      "married_ind     25%         .024\n",
      "                50%         .077\n",
      "                75%         .217\n",
      "                count        114\n",
      "                max         .811\n",
      "                mean        .136\n",
      "                min         .002\n",
      "                std         .147\n",
      "ny_resident_ind 25%         .016\n",
      "                50%         .047\n",
      "                75%         .117\n",
      "                count         94\n",
      "                max           .5\n",
      "                mean          .1\n",
      "                min            0\n",
      "                std         .124\n",
      "oh_resident_ind 25%         .018\n",
      "                50%         .038\n",
      "                75%         .122\n",
      "                count         34\n",
      "                max         .546\n",
      "                mean        .115\n",
      "                min         .003\n",
      "                std         .154\n",
      "separated_ind   25%          .01\n",
      "                50%         .043\n",
      "                75%         .099\n",
      "                count         78\n"
     ]
    }
   ],
   "source": [
    "# Call the DecisionForestEvaluator() function to determine the most important\n",
    "# variables in the Decision Forest model.\n",
    "#\n",
    "td_decisionforest_model_evaluator = DecisionForestEvaluator(object = td_decisionforest_model,\n",
    "                                                            num_levels = 5)\n",
    "\n",
    "# In the following, the describe() method provides summary statistics across\n",
    "# trees over grouping by each variable. One can consider the mean importance\n",
    "# across all trees as the importance for each variable.\n",
    "#\n",
    "td_variable_importance = td_decisionforest_model_evaluator.result.select([\"variable_col\", \"importance\"]).groupby(\"variable_col\").describe()\n",
    "\n",
    "print(td_variable_importance)\n",
    "#print(\"Variable importance analysis complete.\")"
   ]
  },
  {
   "cell_type": "code",
   "execution_count": 10,
   "metadata": {},
   "outputs": [
    {
     "name": "stdout",
     "output_type": "stream",
     "text": [
      "SELECT * FROM DecisionForestPredict(\n",
      "\tON \"ak_TBv2_Test_ADS_Py\" AS \"input\"\n",
      "\tPARTITION BY ANY \n",
      "\tON \"ak186064\".\"ml__td_decisionforest0_162078106630228\" AS ModelTable\n",
      "\tDIMENSION\n",
      "\tUSING\n",
      "\tIdColumn('cust_id')\n",
      "\tAccumulate('cc_acct_ind')\n",
      ") as sqlmr\n"
     ]
    },
    {
     "data": {
      "text/plain": [
       "   cc_acct_ind   cust_id prediction  confidence_lower  confidence_upper\n",
       "0            0  13629760          1          0.800412          0.800412\n",
       "1            0  14997136          1          0.674897          0.674897\n",
       "2            0  16355184          1          0.814815          0.814815\n",
       "3            0  14994595          1          0.790123          0.790123\n",
       "4            0  24539364          0          0.510288          0.510288"
      ]
     },
     "execution_count": 10,
     "metadata": {},
     "output_type": "execute_result"
    }
   ],
   "source": [
    "# Score the Decision Forest model\n",
    "#\n",
    "td_decisionforest_predict = DecisionForestPredict(td_decisionforest_model,\n",
    "                                                  newdata = td_Test_ADS,\n",
    "                                                  id_column = \"cust_id\",\n",
    "                                                  detailed = False,\n",
    "                                                  terms = [\"cc_acct_ind\"]\n",
    "                                                  )\n",
    "\n",
    "# Persist the DecisionForestPredict output\n",
    "try:\n",
    "    db_drop_table(\"ak_TBv2_Py_DecisionForest_Scores\")\n",
    "except:\n",
    "    pass\n",
    "\n",
    "copy_to_sql(td_decisionforest_predict.result, if_exists = \"replace\", \n",
    "            table_name=\"ak_TBv2_Py_DecisionForest_Scores\")\n",
    "td_DecisionForest_Scores = DataFrame(\"ak_TBv2_Py_DecisionForest_Scores\")\n",
    "td_DecisionForest_Scores.head(5)"
   ]
  },
  {
   "cell_type": "markdown",
   "metadata": {},
   "source": [
    "#### 1.3. Inspect the 2 modeling approaches through their Confusion Matrix"
   ]
  },
  {
   "cell_type": "code",
   "execution_count": 11,
   "metadata": {},
   "outputs": [
    {
     "name": "stdout",
     "output_type": "stream",
     "text": [
      "SELECT * FROM ConfusionMatrix(\n",
      "\tON \"ak_TBv2_Py_XGBoost_Scores\" AS \"input\"\n",
      "\tPARTITION BY 1\n",
      "\tOUT TABLE CountTable(ak186064.ml__td_confusionmatrix0_162078240563546)\n",
      "\tOUT TABLE StatTable(ak186064.ml__td_confusionmatrix1_162077463074568)\n",
      "\tOUT TABLE AccuracyTable(ak186064.ml__td_confusionmatrix2_162078667440282)\n",
      "\tUSING\n",
      "\tObservationColumn('cc_acct_ind')\n",
      "\tPredictColumn('prediction')\n",
      ") as sqlmr\n",
      "############ STDOUT Output ############\n",
      "\n",
      "Empty DataFrame\n",
      "Columns: []\n",
      "Index: [The result has been outputted to output tables, Success !]\n",
      "\n",
      "\n",
      "############ counttable Output ############\n",
      "\n",
      "  observation    0     1\n",
      "0           1  165  2445\n",
      "1           0  510   598\n",
      "\n",
      "\n",
      "############ stattable Output ############\n",
      "\n",
      "                    key             value\n",
      "0       Null Error Rate             0.298\n",
      "1                 Kappa            0.4474\n",
      "2  Mcnemar Test P-Value                 0\n",
      "3   P-Value [Acc > NIR]                 0\n",
      "4                95% CI  (0.7814, 0.8077)\n",
      "5              Accuracy            0.7948\n",
      "\n",
      "\n",
      "############ accuracytable Output ############\n",
      "\n",
      "                measure       0       1\n",
      "0        Pos Pred Value  0.7556  0.8035\n",
      "1            Prevalence   0.298   0.702\n",
      "2        Detection Rate  0.1372  0.6576\n",
      "3  Detection Prevalence  0.1815  0.8185\n",
      "4     Balanced Accuracy  0.6985  0.6985\n",
      "5        Neg Pred Value  0.8035  0.7556\n",
      "6           Specificity  0.9368  0.4603\n",
      "7           Sensitivity  0.4603  0.9368\n"
     ]
    }
   ],
   "source": [
    "# Look at the confusion matrix for the XGBoost model.\n",
    "#\n",
    "confusion_matrix_XGB = ConfusionMatrix(data = td_XGBoost_Scores,\n",
    "                                       reference = \"cc_acct_ind\",\n",
    "                                       prediction = \"prediction\"\n",
    "                                      )\n",
    "print(confusion_matrix_XGB)"
   ]
  },
  {
   "cell_type": "code",
   "execution_count": 12,
   "metadata": {},
   "outputs": [
    {
     "name": "stdout",
     "output_type": "stream",
     "text": [
      "SELECT * FROM ConfusionMatrix(\n",
      "\tON \"ak_TBv2_Py_DecisionForest_Scores\" AS \"input\"\n",
      "\tPARTITION BY 1\n",
      "\tOUT TABLE CountTable(ak186064.ml__td_confusionmatrix0_162083681916967)\n",
      "\tOUT TABLE StatTable(ak186064.ml__td_confusionmatrix1_162077210897868)\n",
      "\tOUT TABLE AccuracyTable(ak186064.ml__td_confusionmatrix2_162077772381189)\n",
      "\tUSING\n",
      "\tObservationColumn('cc_acct_ind')\n",
      "\tPredictColumn('prediction')\n",
      ") as sqlmr\n",
      "############ STDOUT Output ############\n",
      "\n",
      "Empty DataFrame\n",
      "Columns: []\n",
      "Index: [The result has been outputted to output tables, Success !]\n",
      "\n",
      "\n",
      "############ counttable Output ############\n",
      "\n",
      "  observation    0     1\n",
      "0           1   31  2579\n",
      "1           0  326   782\n",
      "\n",
      "\n",
      "############ stattable Output ############\n",
      "\n",
      "                    key             value\n",
      "0       Null Error Rate             0.298\n",
      "1                 Kappa            0.3508\n",
      "2  Mcnemar Test P-Value                 0\n",
      "3   P-Value [Acc > NIR]                 0\n",
      "4                95% CI  (0.7677, 0.7945)\n",
      "5              Accuracy            0.7813\n",
      "\n",
      "\n",
      "############ accuracytable Output ############\n",
      "\n",
      "                measure       0       1\n",
      "0        Pos Pred Value  0.9132  0.7673\n",
      "1            Prevalence   0.298   0.702\n",
      "2        Detection Rate  0.0877  0.6937\n",
      "3  Detection Prevalence   0.096   0.904\n",
      "4     Balanced Accuracy  0.6412  0.6412\n",
      "5        Neg Pred Value  0.7673  0.9132\n",
      "6           Specificity  0.9881  0.2942\n",
      "7           Sensitivity  0.2942  0.9881\n"
     ]
    }
   ],
   "source": [
    "# Look at the confusion matrix for Random Forest model.\n",
    "#\n",
    "confusion_matrix_DF = ConfusionMatrix(data = td_DecisionForest_Scores,\n",
    "                                      reference = \"cc_acct_ind\",\n",
    "                                      prediction = \"prediction\"\n",
    "                                     )\n",
    "print(confusion_matrix_DF)"
   ]
  },
  {
   "cell_type": "markdown",
   "metadata": {},
   "source": [
    "### 2. Model Cataloging\n",
    "Tools to save, inspect, retrieve, and reuse models created either in the Advanced SQL Engine or the ML Engine."
   ]
  },
  {
   "cell_type": "code",
   "execution_count": 13,
   "metadata": {},
   "outputs": [
    {
     "name": "stdout",
     "output_type": "stream",
     "text": [
      "Persisting model information.\n",
      "Persisted table: \"ak186064\".\"ml__td_xgboost0_162077915941196\"\n",
      "Persisted table: \"ak186064\".\"ml__td_sqlmr_out__162076768057945\"\n",
      "Successfully persisted model.\n",
      "Persisting model information.\n",
      "Persisted table: \"ak186064\".\"ml__td_decisionforest0_162078106630228\"\n",
      "Persisted table: \"ak186064\".\"ml__td_decisionforest1_162077867853955\"\n",
      "Persisted table: \"ak186064\".\"ml__td_sqlmr_out__162080888675025\"\n",
      "Successfully persisted model.\n"
     ]
    }
   ],
   "source": [
    "# Save the XGBoost and Decision Forest models.\n",
    "#\n",
    "save_model(model = td_xgboost_model, name = \"ak_TBv2_Py_CC_XGB_model\", \n",
    "           description = \"TechBytes (Python): XGBoost for credit card analysis\")\n",
    "save_model(model = td_decisionforest_model, name = \"ak_TBv2_Py_CC_DF_model\", \n",
    "           description = \"TechBytes (Python): DF for credit card analysis\")"
   ]
  },
  {
   "cell_type": "code",
   "execution_count": 14,
   "metadata": {},
   "outputs": [
    {
     "name": "stdout",
     "output_type": "stream",
     "text": [
      "                 ModelName  ModelAlgorithm ModelGeneratingEngine ModelGeneratingClient CreatedBy                 CreatedDate\n",
      "0   ak_TBv2_Py_CC_DF_model  DecisionForest             ML Engine            teradataml  AK186064  2021-05-03 17:09:27.880000\n",
      "1  ak_TBv2_Py_CC_XGB_model         XGBoost             ML Engine            teradataml  AK186064  2021-05-03 17:09:11.100000\n"
     ]
    }
   ],
   "source": [
    "# Inspect presently saved models.\n",
    "#\n",
    "list_models()"
   ]
  },
  {
   "cell_type": "code",
   "execution_count": 15,
   "metadata": {},
   "outputs": [
    {
     "name": "stdout",
     "output_type": "stream",
     "text": [
      "\n",
      "\n",
      "*** 'ak_TBv2_Py_CC_DF_model': Model Details ***\n",
      "ModelName                                       ak_TBv2_Py_CC_DF_model\n",
      "ModelDescription       TechBytes (Python): DF for credit card analysis\n",
      "ModelAlgorithm                                          DecisionForest\n",
      "ModelPredictionType                                     CLASSIFICATION\n",
      "ModelTargetColumn                                          cc_acct_ind\n",
      "ModelProject                                                      None\n",
      "ModelEntityTarget                                                 None\n",
      "ModelGeneratingEngine                                        ML Engine\n",
      "ModelGeneratingClient                                       teradataml\n",
      "ModelAccess                                                    Private\n",
      "ModelStatus                                             In-Development\n",
      "ModelBuildTime                                                       0\n",
      "ModelLocation                                      Advanced SQL Engine\n",
      "CreatedBy                                                     AK186064\n",
      "CreatedDate                                 2021-05-03 17:09:27.880000\n",
      "\n",
      "\n",
      "*** 'ak_TBv2_Py_CC_DF_model': Model Attributes ***\n",
      "                      AttrName  \\\n",
      "0                    tree_type   \n",
      "1                     nodesize   \n",
      "2                     variance   \n",
      "3                    max_depth   \n",
      "4                    mtry_seed   \n",
      "5                     outofbag   \n",
      "6                         seed   \n",
      "7   display_num_processed_rows   \n",
      "8         categorical_encoding   \n",
      "9                        ntree   \n",
      "10                        mtry   \n",
      "11          maxnum_categorical   \n",
      "12                     formula   \n",
      "\n",
      "                                            AttrValue  \n",
      "0                                      classification  \n",
      "1                                                   1  \n",
      "2                                                   0  \n",
      "3                                                  12  \n",
      "4                                                 100  \n",
      "5                                               False  \n",
      "6                                                 100  \n",
      "7                                               False  \n",
      "8                                            graycode  \n",
      "9                                                 500  \n",
      "10                                                  5  \n",
      "11                                               1000  \n",
      "12  cc_acct_ind ~ income + age + tot_cust_years + ...  \n",
      "\n",
      "\n",
      "*** 'ak_TBv2_Py_CC_DF_model': Model Training Data ***\n",
      "  InputName                           InputTableName  NRows  NCols\n",
      "0      data  \"TRNG_TECHBYTES\".\"ak_TBv2_Train_ADS_Py\"   5578     30\n",
      "\n",
      "\n",
      "*** 'ak_TBv2_Py_CC_DF_model': Model Training Objects ***\n",
      "         OutputName                                    OutputTableName\n",
      "0            output     \"ak186064\".\"ml__td_sqlmr_out__162080888675025\"\n",
      "1     monitor_table  \"ak186064\".\"ml__td_decisionforest1_16207786785...\n",
      "2  predictive_model  \"ak186064\".\"ml__td_decisionforest0_16207810663...\n"
     ]
    }
   ],
   "source": [
    "# Print details about a specific model.\n",
    "#\n",
    "describe_model(name = \"ak_TBv2_Py_CC_DF_model\")"
   ]
  },
  {
   "cell_type": "code",
   "execution_count": 16,
   "metadata": {},
   "outputs": [],
   "source": [
    "# Recreate a teradataml Analytic Function object from the information saved\n",
    "# with the Model Catalog \n",
    "td_retrieved_DF_model = retrieve_model(\"ak_TBv2_Py_CC_DF_model\")"
   ]
  },
  {
   "cell_type": "code",
   "execution_count": 17,
   "metadata": {},
   "outputs": [
    {
     "name": "stdout",
     "output_type": "stream",
     "text": [
      "Model published successfully!\n",
      "Please execute the following GRANT statements:\n",
      "GRANT SELECT ON \"ak186064\".\"ml__td_sqlmr_out__162080888675025\" to public;\n",
      "GRANT SELECT ON \"ak186064\".\"ml__td_decisionforest1_162077867853955\" to public;\n",
      "GRANT SELECT ON \"ak186064\".\"ml__td_decisionforest0_162078106630228\" to public;\n"
     ]
    }
   ],
   "source": [
    "# Assume that on the basis of the earlier model comparison, we choose to keep\n",
    "# the Decision Forests model and discard the XGBoost one.\n",
    "#\n",
    "# The publish_model() function enables sharing the selected models with\n",
    "# other users, and specifying a status among the available options\n",
    "# of \"In-Development\", \"Candidate\", \"Active\", \"Production\", and \"Retired\".\n",
    "#\n",
    "publish_model(\"ak_TBv2_Py_CC_DF_model\", grantee = \"public\", status = \"Active\")"
   ]
  },
  {
   "cell_type": "code",
   "execution_count": 18,
   "metadata": {},
   "outputs": [
    {
     "name": "stdout",
     "output_type": "stream",
     "text": [
      "Deleted model 'ak_TBv2_Py_CC_DF_model' successfully.\n",
      "Model Objects that can be dropped: ['\"ak186064\".\"ml__td_sqlmr_out__162080888675025\"', '\"ak186064\".\"ml__td_decisionforest1_162077867853955\"', '\"ak186064\".\"ml__td_decisionforest0_162078106630228\"'].\n",
      "Deleted model 'ak_TBv2_Py_CC_XGB_model' successfully.\n",
      "Model Objects that can be dropped: ['\"ak186064\".\"ml__td_sqlmr_out__162076768057945\"', '\"ak186064\".\"ml__td_xgboost0_162077915941196\"'].\n"
     ]
    }
   ],
   "source": [
    "# Discarding a model no longer needed.\n",
    "#\n",
    "delete_model(\"ak_TBv2_Py_CC_DF_model\")\n",
    "delete_model(\"ak_TBv2_Py_CC_XGB_model\")"
   ]
  },
  {
   "cell_type": "markdown",
   "metadata": {},
   "source": [
    "### End of session"
   ]
  },
  {
   "cell_type": "code",
   "execution_count": 19,
   "metadata": {},
   "outputs": [
    {
     "data": {
      "text/plain": [
       "True"
      ]
     },
     "execution_count": 19,
     "metadata": {},
     "output_type": "execute_result"
    }
   ],
   "source": [
    "# Remove the context of present teradataml session and terminate the Python\n",
    "# session. It is recommended to call the remove_context() function for session\n",
    "# cleanup. Temporary objects are removed at the end of the session.\n",
    "#\n",
    "remove_context()"
   ]
  },
  {
   "cell_type": "code",
   "execution_count": null,
   "metadata": {},
   "outputs": [],
   "source": []
  }
 ],
 "metadata": {
  "kernelspec": {
   "display_name": "Python 3",
   "language": "python",
   "name": "python3"
  },
  "language_info": {
   "codemirror_mode": {
    "name": "ipython",
    "version": 3
   },
   "file_extension": ".py",
   "mimetype": "text/x-python",
   "name": "python",
   "nbconvert_exporter": "python",
   "pygments_lexer": "ipython3",
   "version": "3.6.8"
  }
 },
 "nbformat": 4,
 "nbformat_minor": 4
}
