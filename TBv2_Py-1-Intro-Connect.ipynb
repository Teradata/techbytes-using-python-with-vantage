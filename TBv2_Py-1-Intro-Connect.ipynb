{
 "cells": [
  {
   "cell_type": "markdown",
   "metadata": {},
   "source": [
    "# TechBytes: Using Python with Teradata Vantage\n",
    "## Part 1: Introduction - Connecting to Vantage\n",
    "\n",
    "The contents of this file are Teradata Public Content and have been released to the Public Domain.\n",
    "Please see _license.txt_ file in the package for more information.\n",
    "\n",
    "Alexander Kolovos and Tim Miller - May 2021 - v.2.0 \\\n",
    "Copyright (c) 2021 by Teradata \\\n",
    "Licensed under BSD\n",
    "\n",
    "This TechByte demonstrates some basic operations to get started with teradataml; namely, how to\n",
    "* connect from a client machine to a Vantage Advanced SQL Engine Database.\n",
    "* create Database tables from your data and create pandas-like teradataml DataFrames from tables.\n",
    "* list and drop tables in a Vantage connection.\n",
    "\n",
    "Contributions by:\n",
    "- Alexander Kolovos, Sr Staff Software Architect, Teradata Product Engineering / Vantage Cloud and Applications.\n",
    "- Tim Miller, Principal Software Architect, Teradata Product Management / Advanced Analytics."
   ]
  },
  {
   "cell_type": "markdown",
   "metadata": {},
   "source": [
    "### 1. Load libraries and create a Vantage connection"
   ]
  },
  {
   "cell_type": "code",
   "execution_count": null,
   "metadata": {
    "ExecuteTime": {
     "end_time": "2021-02-05T15:55:01.150305Z",
     "start_time": "2021-02-05T15:55:01.134716Z"
    }
   },
   "outputs": [],
   "source": [
    "# Load teradataml and dependency packages.\n",
    "#\n",
    "import os\n",
    "import getpass as gp\n",
    "from teradataml import create_context, remove_context, get_context\n",
    "from teradataml import DataFrame, copy_to_sql, in_schema\n",
    "from teradataml import db_list_tables, db_drop_table\n",
    "import pandas as pd"
   ]
  },
  {
   "cell_type": "code",
   "execution_count": null,
   "metadata": {},
   "outputs": [],
   "source": [
    "# Specify a Teradata Vantage server to connect to. In the following statement, \n",
    "# replace the following argument values with strings as follows:\n",
    "# <HOST>   : Specify your target Vantage system hostname (or IP address).\n",
    "# <UID>    : Specify your Database username.\n",
    "# <PWD>    : Specify your password. You can also use encrypted passwords via\n",
    "#            the Stored Password Protection feature.\n",
    "# Notes: \n",
    "# 1. teradataml will operate inside your default database, unless you wish to\n",
    "#    specify the \"database\" argument to use a different database <DB_Name>.\n",
    "# 2. Specify the argument \"temp_database_name\" with a <Temp_DB_Name> for \n",
    "#    teradataml to use a different database for creation of termporary objects.\n",
    "# 3. teradataml supports a variety of logon mechanisms. Simply use the\n",
    "#    argument \"logmech\" with any of the values 'TD2', 'TDNEGO', 'LDAP', 'KRB5',\n",
    "#    or 'JWT'.\n",
    "#\n",
    "#con = create_context(host = <HOST>, username = <UID>, password = <PWD>, \n",
    "#                     database = <DB_Name>, \"temp_database_name\" = <Temp_DB_Name>)\n",
    "#\n",
    "con = create_context(host = \"<Host_Name>\", username = \"<Username>\",\n",
    "                            password = gp.getpass(prompt='Password:'), \n",
    "                            logmech = \"LDAP\", database = \"TRNG_TECHBYTES\",\n",
    "                            temp_database_name = \"<Database_Name>\")"
   ]
  },
  {
   "cell_type": "markdown",
   "metadata": {},
   "source": [
    "### 2. Interacting with Vantage tables\n",
    "Creating a Vantage table: Common ways to create Database tables from data on your client include:\n",
    "- the teradataml copy_to_sql() function.\n",
    "- the teradataml fastload() function (not demonstrated here; recommended when sending data of size 100,000 rows or more).\n",
    "- the Fastload command-line utility (not demonstrated here; utility is available in the TTU package for the Windows or the Linux OS at downloads.teradata.com.\n",
    "\n",
    "All of the above tasks involve at least partial data transfer from your source to the target Vantage server."
   ]
  },
  {
   "cell_type": "code",
   "execution_count": null,
   "metadata": {},
   "outputs": [],
   "source": [
    "# Read your dataset file into a pandas DataFrame, then use the teradataml\n",
    "# copy_to_sql() function to persist the DataFrame as a Vantage table.\n",
    "# The table is created in the context's specified database TRNG_TECHBYTES.\n",
    "#\n",
    "CustomerInputDF = pd.read_csv(\"<your/system/path/to/Customer.csv>\")\n",
    "copy_to_sql(CustomerInputDF, table_name = \"Customer\", if_exists = \"replace\")\n",
    "CustomerInputDF.head(5)"
   ]
  },
  {
   "cell_type": "code",
   "execution_count": null,
   "metadata": {},
   "outputs": [],
   "source": [
    "# Let us sample this table by creating a teradataml DataFrame from Customer.\n",
    "#\n",
    "tdCustomer = DataFrame(\"Customer\")\n",
    "# Using to_pandas() for a cleaner display format; involves data transfer.\n",
    "tdCustomer.to_pandas().head(5)"
   ]
  },
  {
   "cell_type": "code",
   "execution_count": null,
   "metadata": {},
   "outputs": [],
   "source": [
    "# Independently, assume a table Customer2 exists in database <Database_Name> on the\n",
    "# target server. Let us create a teradataml DataFrame from Customer2, too.\n",
    "#\n",
    "tdCustomer2 = DataFrame(in_schema(\"<Database_Name>\", \"Customer2\"))\n",
    "# Using to_pandas() for a cleaner display format; involves data transfer.\n",
    "tdCustomer2.to_pandas().head(5)"
   ]
  },
  {
   "cell_type": "code",
   "execution_count": null,
   "metadata": {},
   "outputs": [],
   "source": [
    "# We can use copy_to_sql() to persist the tdCustomer2 Dataframe as a table \n",
    "# Customer2 in the TRNG_TECHBYTES database, too.\n",
    "#\n",
    "copy_to_sql(tdCustomer2, table_name = \"Customer2\", if_exists = \"replace\")"
   ]
  },
  {
   "cell_type": "markdown",
   "metadata": {},
   "source": [
    "_Notes on uploading data:_\n",
    "\n",
    "There is no preferred way to upload your data to an Advanced SQL Engine server; yet, keep in mind that:\n",
    "1. When you `copy_to_sql()` a pandas DataFrame as a Vantage table, then data in index columns of the pandas DataFrame will be excluded from the Vantage table.\n",
    "2. When using the Teradata Fastload utility to create a table, any primary indices you specify (or the default primary index from the first table column) will be interpreted as index columns in the teradataml DataFrame. In this scenario, use `to_pandas().reset_index()` with a teradataml DataFrame, if you have tasks that might require using index column data (for example, when plotting these data)."
   ]
  },
  {
   "cell_type": "code",
   "execution_count": null,
   "metadata": {},
   "outputs": [],
   "source": [
    "# At this point, TRNG_TECHBYTES contains tables \"Customer\" and \"Customer2\".\n",
    "# Let us verify this by listing tables that begin with the string \"custom\".\n",
    "#\n",
    "# By default, the list operation will take place in the teradataml context\n",
    "# \"database\"; therefore in the present example, TRNG_TECHBYTES list results\n",
    "# will be displayed. The search is non-case-sensitive.\n",
    "# Note: To list tables in a different database, use the db_list_tables()\n",
    "#       \"schema_name\" argument to specify the desired database name.\n",
    "#\n",
    "db_list_tables(object_name = \"custom%\")"
   ]
  },
  {
   "cell_type": "code",
   "execution_count": null,
   "metadata": {},
   "outputs": [],
   "source": [
    "# Entirely remove a table from the Database.\n",
    "#\n",
    "# By default, the drop operation will take place in the teradataml context\n",
    "# \"database\"; therefore in the present example, TRNG_TECHBYTES.Customer2\n",
    "# will be dropped.\n",
    "# Note: To drop a table in a different database, use the db_drop_table()\n",
    "#       \"schema_name\" argument to specify the desired database name.\n",
    "#\n",
    "db_drop_table(\"Customer2\")\n",
    "db_list_tables(object_name = \"custom%\")"
   ]
  },
  {
   "cell_type": "code",
   "execution_count": null,
   "metadata": {},
   "outputs": [],
   "source": [
    "# Details about an object are available through the Python help() function.\n",
    "# Example: help(DataFrame)\n",
    "# An object's methods can be queried with the Python dir() function.\n",
    "# Example: dir(DataFrame)"
   ]
  },
  {
   "cell_type": "markdown",
   "metadata": {},
   "source": [
    "### End of session"
   ]
  },
  {
   "cell_type": "code",
   "execution_count": null,
   "metadata": {},
   "outputs": [],
   "source": [
    "# Remove the context of present teradataml session and terminate the Python\n",
    "# session. It is recommended to call the remove_context() function for session\n",
    "# cleanup. Temporary objects are removed at the end of the session.\n",
    "#\n",
    "remove_context()"
   ]
  }
 ],
 "metadata": {
  "kernelspec": {
   "display_name": "Python 3",
   "language": "python",
   "name": "python3"
  },
  "language_info": {
   "codemirror_mode": {
    "name": "ipython",
    "version": 3
   },
   "file_extension": ".py",
   "mimetype": "text/x-python",
   "name": "python",
   "nbconvert_exporter": "python",
   "pygments_lexer": "ipython3",
   "version": "3.6.8"
  }
 },
 "nbformat": 4,
 "nbformat_minor": 4
}
